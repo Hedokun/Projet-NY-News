{
  "cells": [
    {
      "cell_type": "code",
      "execution_count": null,
      "metadata": {
        "colab": {
          "base_uri": "https://localhost:8080/"
        },
        "id": "9GapqwVq_WWv",
        "outputId": "2c5447d9-1564-456f-e458-c9f6af67b763"
      },
      "outputs": [],
      "source": [
        "#import et install des modules\n",
        "!pip install jupyter-dash\n",
        "!pip install dash_core_components\n",
        "!pip install dash_html_components\n",
        "!pip install plotly"
      ]
    },
    {
      "cell_type": "code",
      "execution_count": null,
      "metadata": {
        "colab": {
          "base_uri": "https://localhost:8080/",
          "height": 741
        },
        "id": "L_iuwFch_Xh5",
        "outputId": "2fc45ed0-6e7f-4438-cd8e-35b6df810966"
      },
      "outputs": [],
      "source": [
        "import pandas as pd\n",
        "import plotly.express as px\n",
        "import dash\n",
        "from dash import dcc\n",
        "from dash import html\n",
        "from jupyter_dash import JupyterDash\n",
        "\n",
        "# Charger le fichier CSV en utilisant pandas\n",
        "df = pd.read_csv('nyt.csv')\n",
        "\n",
        "# Créer une instance de JupyterDash\n",
        "app = JupyterDash(__name__)\n",
        "\n",
        "# Créer une mise en page\n",
        "app.layout = html.Div([\n",
        "    html.H1('Recherche d\\'articles du New York Times'),\n",
        "    dcc.Input(id='mot-recherche', type='text', placeholder='Entrez le mot à rechercher'),\n",
        "    html.Div(id='total-occurrences'),\n",
        "    html.Div([\n",
        "        html.Div([\n",
        "            dcc.Graph(id='graphique-categories')\n",
        "        ], className='six columns', style={'display': 'inline-block', 'width': '45%'}),\n",
        "        html.Div([\n",
        "            dcc.Graph(id='graphique-abstract')\n",
        "        ], className='six columns', style={'display': 'inline-block', 'width': '45%', 'float': 'right'})\n",
        "    ]),\n",
        "    dcc.Graph(id='graphique')\n",
        "])\n",
        "# Définir une fonction de rappel pour mettre à jour les graphiques et le total des occurrences\n",
        "@app.callback(\n",
        "    [dash.dependencies.Output('graphique', 'figure'),\n",
        "     dash.dependencies.Output('graphique-categories', 'figure'),\n",
        "     dash.dependencies.Output('graphique-abstract', 'figure'),\n",
        "     dash.dependencies.Output('total-occurrences', 'children')],\n",
        "    [dash.dependencies.Input('mot-recherche', 'value')])\n",
        "def update_graph(mot_recherche):\n",
        "    # Filtrer les articles qui contiennent le mot recherché (ignorer la casse des lettres)\n",
        "    df_filtre = df[df['keywords'].str.contains(mot_recherche, case=False)]\n",
        "\n",
        "    # Convertir la colonne pub_date en datetime et extraire la date\n",
        "    df_filtre['date'] = pd.to_datetime(df_filtre['pub_date']).dt.date\n",
        "\n",
        "    # Regrouper les articles par date et compter le nombre d'articles pour chaque date\n",
        "    df_group = df_filtre.groupby('date').size().reset_index(name='count')\n",
        "\n",
        "   # Calculer le total des occurrences dans le mois\n",
        "    total_occurrences = df_group['count'].sum()\n",
        "\n",
        "    # Créer un graphique avec plotly pour les  par jour\n",
        "    fig = px.line(df_group, x='date', y='count', title='Nombre d\\'articles par jour contenant le mot \"{}\"'.format(mot_recherche))\n",
        "\n",
        "    # Filtrer les articles par catégorie avec le plus grand nombre d' du mot recherché\n",
        "    categorie_populaire = df_filtre['categories'].value_counts().idxmax()\n",
        "    df_categorie = df_filtre[df_filtre['categories'] == categorie_populaire]\n",
        "\n",
        "    # Créer un graphique avec plotly pour les occurrences par catégorie (en vert)\n",
        "    fig_categories = px.histogram(df_categorie, x='date', title='Nombre du mot \"{}\" dans la catégorie avec le plus d\\'occurence\"{}\"'.format(mot_recherche, categorie_populaire)\n",
        "                                  ,color_discrete_sequence=['green'])\n",
        "\n",
        "    # Filtrer les articles par jour et sommer les occurrences dans l'abstract\n",
        "    df_abstract = df_filtre.groupby('date')['abstract'].count().reset_index()\n",
        "\n",
        "    # Créer un graphique avec plotly pour la somme des mots dans l'abstract par jour sur le mois (en rouge)\n",
        "    fig_abstract = px.line(df_abstract, x='date', y='abstract', title='Somme des mots \"{}\" dans l\\'abstract par jour sur le mois'.format(mot_recherche)\n",
        "                                  ,color_discrete_sequence=['red'])\n",
        "\n",
        "    return fig, fig_categories, fig_abstract, \"Total des occurrences : {}\".format(total_occurrences)\n",
        "\n",
        "\n",
        "# Exécuter l'application Dash avec JupyterDash\n",
        "app.run_server(mode='inline')"
      ]
    }
  ],
  "metadata": {
    "colab": {
      "provenance": []
    },
    "kernelspec": {
      "display_name": "Python 3",
      "name": "python3"
    },
    "language_info": {
      "name": "python"
    }
  },
  "nbformat": 4,
  "nbformat_minor": 0
}
