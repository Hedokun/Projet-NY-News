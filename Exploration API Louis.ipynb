{
  "nbformat": 4,
  "nbformat_minor": 0,
  "metadata": {
    "colab": {
      "provenance": []
    },
    "kernelspec": {
      "name": "python3",
      "display_name": "Python 3"
    },
    "language_info": {
      "name": "python"
    }
  },
  "cells": [
    {
      "cell_type": "code",
      "source": [
        "#votre clé de l'API\n",
        "\n",
        "api_key = \"Your API KEY\""
      ],
      "metadata": {
        "id": "IhEnvlMblLEt"
      },
      "execution_count": null,
      "outputs": []
    },
    {
      "cell_type": "markdown",
      "source": [
        "# Découverte avec PYNYTIMES\n"
      ],
      "metadata": {
        "id": "CDqstSYyj0d8"
      }
    },
    {
      "cell_type": "markdown",
      "source": [
        "## Import et Création de l'objet"
      ],
      "metadata": {
        "id": "SJ_xLvSikA06"
      }
    },
    {
      "cell_type": "code",
      "source": [
        "!pip install pynytimes "
      ],
      "metadata": {
        "colab": {
          "base_uri": "https://localhost:8080/"
        },
        "id": "HdOSHdgQNkGc",
        "outputId": "5e8c1eaa-2fb8-4f54-b5e6-bf3d03316f79"
      },
      "execution_count": null,
      "outputs": [
        {
          "output_type": "stream",
          "name": "stdout",
          "text": [
            "Looking in indexes: https://pypi.org/simple, https://us-python.pkg.dev/colab-wheels/public/simple/\n",
            "Collecting pynytimes\n",
            "  Downloading pynytimes-0.9.0-py3-none-any.whl (20 kB)\n",
            "Requirement already satisfied: requests<3.0.0,>=2.10.0 in /usr/local/lib/python3.9/dist-packages (from pynytimes) (2.27.1)\n",
            "Requirement already satisfied: urllib3 in /usr/local/lib/python3.9/dist-packages (from pynytimes) (1.26.15)\n",
            "Requirement already satisfied: charset-normalizer~=2.0.0 in /usr/local/lib/python3.9/dist-packages (from requests<3.0.0,>=2.10.0->pynytimes) (2.0.12)\n",
            "Requirement already satisfied: idna<4,>=2.5 in /usr/local/lib/python3.9/dist-packages (from requests<3.0.0,>=2.10.0->pynytimes) (3.4)\n",
            "Requirement already satisfied: certifi>=2017.4.17 in /usr/local/lib/python3.9/dist-packages (from requests<3.0.0,>=2.10.0->pynytimes) (2022.12.7)\n",
            "Installing collected packages: pynytimes\n",
            "Successfully installed pynytimes-0.9.0\n"
          ]
        }
      ]
    },
    {
      "cell_type": "code",
      "source": [
        "from pynytimes import NYTAPI\n",
        "\n",
        "nyt = NYTAPI(api_key, parse_dates=True)"
      ],
      "metadata": {
        "id": "OfNSOsPcL-kR"
      },
      "execution_count": null,
      "outputs": []
    },
    {
      "cell_type": "markdown",
      "source": [
        "## Tests des API"
      ],
      "metadata": {
        "id": "wAC4ELSikN3X"
      }
    },
    {
      "cell_type": "markdown",
      "source": [
        "### Books Api"
      ],
      "metadata": {
        "id": "N7EFQ9OWvYZb"
      }
    },
    {
      "cell_type": "code",
      "source": [
        "books = nyt.book_reviews(author = \"George Orwell\")"
      ],
      "metadata": {
        "id": "RLsvs5BgP7VS"
      },
      "execution_count": null,
      "outputs": []
    },
    {
      "cell_type": "code",
      "source": [
        "type(books)\n",
        "len(books)\n",
        "#retourne tous les livres de Georges Orwell ds une list"
      ],
      "metadata": {
        "colab": {
          "base_uri": "https://localhost:8080/"
        },
        "id": "soMgXH9lT7gG",
        "outputId": "04489620-6e63-4fd3-a997-46bcd0f34dcd"
      },
      "execution_count": null,
      "outputs": [
        {
          "output_type": "execute_result",
          "data": {
            "text/plain": [
              "2"
            ]
          },
          "metadata": {},
          "execution_count": 51
        }
      ]
    },
    {
      "cell_type": "code",
      "source": [
        "books[0]"
      ],
      "metadata": {
        "colab": {
          "base_uri": "https://localhost:8080/"
        },
        "id": "6s7XAh24UCFs",
        "outputId": "82f542c9-ce1a-4082-c101-1f0e2c0dc1a1"
      },
      "execution_count": null,
      "outputs": [
        {
          "output_type": "execute_result",
          "data": {
            "text/plain": [
              "{'url': 'http://www.nytimes.com/2012/08/17/books/diaries-by-george-orwell-edited-by-peter-davison.html',\n",
              " 'publication_dt': datetime.date(2012, 8, 17),\n",
              " 'byline': 'DWIGHT GARNER',\n",
              " 'book_title': 'Diaries',\n",
              " 'book_author': 'George Orwell',\n",
              " 'summary': 'George Orwell’s diaries address his interests in politics but also his passion for nature and gardening.',\n",
              " 'uuid': '00000000-0000-0000-0000-000000000000',\n",
              " 'uri': 'nyt://book/00000000-0000-0000-0000-000000000000',\n",
              " 'isbn13': ['9780871404107']}"
            ]
          },
          "metadata": {},
          "execution_count": 52
        }
      ]
    },
    {
      "cell_type": "markdown",
      "source": [
        "On a donc l'url, le nom du livre, son résumé etc"
      ],
      "metadata": {
        "id": "FVTRkwfKUsg7"
      }
    },
    {
      "cell_type": "markdown",
      "source": [
        "### Article Search"
      ],
      "metadata": {
        "id": "NiQZA1JGQY7y"
      }
    },
    {
      "cell_type": "code",
      "source": [
        "at = nyt.article_search(query = \"Obama\", results = 30)"
      ],
      "metadata": {
        "id": "jBoukQAwN-F-"
      },
      "execution_count": null,
      "outputs": []
    },
    {
      "cell_type": "code",
      "source": [
        "first_at=at[0]\n",
        "for cle in first_at.keys():\n",
        "  print(cle)"
      ],
      "metadata": {
        "colab": {
          "base_uri": "https://localhost:8080/"
        },
        "id": "lJwPbdwySO8g",
        "outputId": "a813f006-fb6f-4528-8164-9967a4a91295"
      },
      "execution_count": null,
      "outputs": [
        {
          "output_type": "stream",
          "name": "stdout",
          "text": [
            "abstract\n",
            "web_url\n",
            "snippet\n",
            "lead_paragraph\n",
            "print_section\n",
            "print_page\n",
            "source\n",
            "multimedia\n",
            "headline\n",
            "keywords\n",
            "pub_date\n",
            "document_type\n",
            "news_desk\n",
            "section_name\n",
            "byline\n",
            "type_of_material\n",
            "_id\n",
            "word_count\n",
            "uri\n"
          ]
        }
      ]
    },
    {
      "cell_type": "markdown",
      "source": [
        "On a les clés du dico, maintenant voir comment s'organise chaque clé"
      ],
      "metadata": {
        "id": "iy8I2P7dTv1F"
      }
    },
    {
      "cell_type": "code",
      "source": [],
      "metadata": {
        "id": "G6KSHl4dSPEn"
      },
      "execution_count": null,
      "outputs": []
    },
    {
      "cell_type": "markdown",
      "source": [
        "### Times Wire API"
      ],
      "metadata": {
        "id": "cx07_yHqQbny"
      }
    },
    {
      "cell_type": "code",
      "source": [
        "metadata = nyt.article_metadata(url = \"https://www.nytimes.com/2019/10/20/world/middleeast/erdogan-turkey-nuclear-weapons-trump.html\")"
      ],
      "metadata": {
        "id": "Pupfyt2fQWAW"
      },
      "execution_count": null,
      "outputs": []
    },
    {
      "cell_type": "code",
      "source": [
        "metadata"
      ],
      "metadata": {
        "id": "i7NHkIALcXro"
      },
      "execution_count": null,
      "outputs": []
    },
    {
      "cell_type": "code",
      "source": [
        "tags = nyt.tag_query(\"pentagon\",max_results = 10)"
      ],
      "metadata": {
        "colab": {
          "base_uri": "https://localhost:8080/",
          "height": 318
        },
        "id": "tnaI9G2XP7wM",
        "outputId": "007653f7-0d65-4945-f3ba-f556f33b05e2"
      },
      "execution_count": null,
      "outputs": [
        {
          "output_type": "error",
          "ename": "RuntimeError",
          "evalue": "ignored",
          "traceback": [
            "\u001b[0;31m---------------------------------------------------------------------------\u001b[0m",
            "\u001b[0;31mRuntimeError\u001b[0m                              Traceback (most recent call last)",
            "\u001b[0;32m<ipython-input-16-57326f176d7d>\u001b[0m in \u001b[0;36m<cell line: 1>\u001b[0;34m()\u001b[0m\n\u001b[0;32m----> 1\u001b[0;31m \u001b[0mtags\u001b[0m \u001b[0;34m=\u001b[0m \u001b[0mnyt\u001b[0m\u001b[0;34m.\u001b[0m\u001b[0mtag_query\u001b[0m\u001b[0;34m(\u001b[0m\u001b[0;34m\"pentagon\"\u001b[0m\u001b[0;34m,\u001b[0m\u001b[0mmax_results\u001b[0m \u001b[0;34m=\u001b[0m \u001b[0;36m10\u001b[0m\u001b[0;34m)\u001b[0m\u001b[0;34m\u001b[0m\u001b[0;34m\u001b[0m\u001b[0m\n\u001b[0m",
            "\u001b[0;32m/usr/local/lib/python3.9/dist-packages/pynytimes/api.py\u001b[0m in \u001b[0;36mtag_query\u001b[0;34m(self, query, filter_option, filter_options, max_results)\u001b[0m\n\u001b[1;32m    617\u001b[0m         \u001b[0;31m# Set URL, load and return data\u001b[0m\u001b[0;34m\u001b[0m\u001b[0;34m\u001b[0m\u001b[0m\n\u001b[1;32m    618\u001b[0m         \u001b[0;31m# FIXME what is this, why is this?\u001b[0m\u001b[0;34m\u001b[0m\u001b[0;34m\u001b[0m\u001b[0m\n\u001b[0;32m--> 619\u001b[0;31m         return self.__load_data(url=BASE_TAGS, options=options, location=[])[\n\u001b[0m\u001b[1;32m    620\u001b[0m             \u001b[0;36m1\u001b[0m\u001b[0;34m\u001b[0m\u001b[0;34m\u001b[0m\u001b[0m\n\u001b[1;32m    621\u001b[0m         ]  # type:ignore\n",
            "\u001b[0;32m/usr/local/lib/python3.9/dist-packages/pynytimes/api.py\u001b[0m in \u001b[0;36m__load_data\u001b[0;34m(self, url, options, location)\u001b[0m\n\u001b[1;32m    221\u001b[0m         )\n\u001b[1;32m    222\u001b[0m \u001b[0;34m\u001b[0m\u001b[0m\n\u001b[0;32m--> 223\u001b[0;31m         \u001b[0mraise_for_status\u001b[0m\u001b[0;34m(\u001b[0m\u001b[0mres\u001b[0m\u001b[0;34m)\u001b[0m\u001b[0;34m\u001b[0m\u001b[0;34m\u001b[0m\u001b[0m\n\u001b[0m\u001b[1;32m    224\u001b[0m         \u001b[0mparsed_res\u001b[0m\u001b[0;34m:\u001b[0m \u001b[0mdict\u001b[0m\u001b[0;34m[\u001b[0m\u001b[0mstr\u001b[0m\u001b[0;34m,\u001b[0m \u001b[0mAny\u001b[0m\u001b[0;34m]\u001b[0m \u001b[0;34m=\u001b[0m \u001b[0mres\u001b[0m\u001b[0;34m.\u001b[0m\u001b[0mjson\u001b[0m\u001b[0;34m(\u001b[0m\u001b[0;34m)\u001b[0m\u001b[0;34m\u001b[0m\u001b[0;34m\u001b[0m\u001b[0m\n\u001b[1;32m    225\u001b[0m         \u001b[0;32mreturn\u001b[0m \u001b[0mget_from_location\u001b[0m\u001b[0;34m(\u001b[0m\u001b[0mparsed_res\u001b[0m\u001b[0;34m,\u001b[0m \u001b[0mlocation\u001b[0m\u001b[0;34m)\u001b[0m\u001b[0;34m\u001b[0m\u001b[0;34m\u001b[0m\u001b[0m\n",
            "\u001b[0;32m/usr/local/lib/python3.9/dist-packages/pynytimes/helpers/load_data.py\u001b[0m in \u001b[0;36mraise_for_status\u001b[0;34m(res)\u001b[0m\n\u001b[1;32m     23\u001b[0m \u001b[0;34m\u001b[0m\u001b[0m\n\u001b[1;32m     24\u001b[0m     \u001b[0;32mif\u001b[0m \u001b[0mres\u001b[0m\u001b[0;34m.\u001b[0m\u001b[0mstatus_code\u001b[0m \u001b[0;34m==\u001b[0m \u001b[0mDOES_NOT_EXIST\u001b[0m\u001b[0;34m:\u001b[0m\u001b[0;34m\u001b[0m\u001b[0;34m\u001b[0m\u001b[0m\n\u001b[0;32m---> 25\u001b[0;31m         \u001b[0;32mraise\u001b[0m \u001b[0mRuntimeError\u001b[0m\u001b[0;34m(\u001b[0m\u001b[0;34m\"Error 404: This page does not exist\"\u001b[0m\u001b[0;34m)\u001b[0m\u001b[0;34m\u001b[0m\u001b[0;34m\u001b[0m\u001b[0m\n\u001b[0m\u001b[1;32m     26\u001b[0m \u001b[0;34m\u001b[0m\u001b[0m\n\u001b[1;32m     27\u001b[0m     \u001b[0mres\u001b[0m\u001b[0;34m.\u001b[0m\u001b[0mraise_for_status\u001b[0m\u001b[0;34m(\u001b[0m\u001b[0;34m)\u001b[0m\u001b[0;34m\u001b[0m\u001b[0;34m\u001b[0m\u001b[0m\n",
            "\u001b[0;31mRuntimeError\u001b[0m: Error 404: This page does not exist"
          ]
        }
      ]
    },
    {
      "cell_type": "markdown",
      "source": [
        "# Requeter les API par ses propres moyens\n",
        "## Import et création de l'objet"
      ],
      "metadata": {
        "id": "Ep5puYFPkhr7"
      }
    },
    {
      "cell_type": "code",
      "source": [
        "import requests\n",
        "from requests import Session \n",
        "\n",
        "session= Session()"
      ],
      "metadata": {
        "id": "lkLRF3w1VvXv"
      },
      "execution_count": null,
      "outputs": []
    },
    {
      "cell_type": "markdown",
      "source": [
        "## Appel d'un Url"
      ],
      "metadata": {
        "id": "51HsoLYkk4l2"
      }
    },
    {
      "cell_type": "markdown",
      "source": [
        "### Article Search\n"
      ],
      "metadata": {
        "id": "CBd1N5B7rW2v"
      }
    },
    {
      "cell_type": "code",
      "source": [
        "res = session.get(str(\"https://api.nytimes.com/svc/search/v2/articlesearch.json?q=election&api-key=\"+api_key),\n",
        "            timeout=10000,\n",
        "        )"
      ],
      "metadata": {
        "id": "PzywjFSGeUbn"
      },
      "execution_count": null,
      "outputs": []
    },
    {
      "cell_type": "code",
      "source": [
        "res.json().keys()"
      ],
      "metadata": {
        "colab": {
          "base_uri": "https://localhost:8080/"
        },
        "id": "qhJWfnhAX0k0",
        "outputId": "0a76de90-b0af-46ae-bfaa-1b365056b41b"
      },
      "execution_count": null,
      "outputs": [
        {
          "output_type": "execute_result",
          "data": {
            "text/plain": [
              "dict_keys(['status', 'copyright', 'response'])"
            ]
          },
          "metadata": {},
          "execution_count": 48
        }
      ]
    },
    {
      "cell_type": "code",
      "source": [
        "res.json()[\"response\"].keys()"
      ],
      "metadata": {
        "colab": {
          "base_uri": "https://localhost:8080/"
        },
        "id": "dkRXiwtffrmg",
        "outputId": "091648f3-7905-4d34-ba7a-0427e3e695da"
      },
      "execution_count": null,
      "outputs": [
        {
          "output_type": "execute_result",
          "data": {
            "text/plain": [
              "dict_keys(['docs', 'meta'])"
            ]
          },
          "metadata": {},
          "execution_count": 43
        }
      ]
    },
    {
      "cell_type": "code",
      "source": [
        "res.json()[\"response\"][\"docs\"][0]"
      ],
      "metadata": {
        "id": "649ls4pWiQhp"
      },
      "execution_count": null,
      "outputs": []
    },
    {
      "cell_type": "code",
      "source": [
        "res.json()[\"response\"][\"docs\"][0].keys()"
      ],
      "metadata": {
        "colab": {
          "base_uri": "https://localhost:8080/"
        },
        "id": "x4e6SaHWm6UZ",
        "outputId": "094b0939-438d-4878-c05d-23caf2ab03e3"
      },
      "execution_count": null,
      "outputs": [
        {
          "output_type": "execute_result",
          "data": {
            "text/plain": [
              "dict_keys(['abstract', 'web_url', 'snippet', 'lead_paragraph', 'source', 'multimedia', 'headline', 'keywords', 'pub_date', 'document_type', 'news_desk', 'section_name', 'subsection_name', 'byline', 'type_of_material', '_id', 'word_count', 'uri'])"
            ]
          },
          "metadata": {},
          "execution_count": 58
        }
      ]
    },
    {
      "cell_type": "markdown",
      "source": [
        "Abstract: abastract de l'article\n",
        "\n",
        "'web_url': html du doc (utile pour Webscrapping)\n",
        "\n",
        "'snippet':\n",
        "\n",
        "'lead_paragraph': Premier paragraphe\n",
        "\n",
        "'source': source de l'article\n",
        "\n",
        "'multimedia': images\n",
        "\n",
        "'headline':\n",
        "\n",
        "'keywords': mots clé (utile pour trouver des noms)\n",
        "\n",
        "'pub_date': date de publi\n",
        "\n",
        "'document_type': artcle \n",
        "\n",
        "'news_desk':\n",
        "\n",
        "'section_name': Catégorie de l'article\n",
        "\n",
        "'subsection_name': sous caté\n",
        "\n",
        "'byline': auteur ?\n",
        "\n",
        "'type_of_material': News\n",
        "\n",
        "'_id';\n",
        "\n",
        "'word_count':\n",
        "\n",
        "'uri':"
      ],
      "metadata": {
        "id": "CT7nrwSIo5CA"
      }
    },
    {
      "cell_type": "code",
      "source": [
        "res.json()[\"response\"][\"docs\"][0]['uri']"
      ],
      "metadata": {
        "colab": {
          "base_uri": "https://localhost:8080/",
          "height": 35
        },
        "id": "4XCDhesIocul",
        "outputId": "6d0cbc47-8b6f-4f04-b3ce-6b4544af9101"
      },
      "execution_count": null,
      "outputs": [
        {
          "output_type": "execute_result",
          "data": {
            "text/plain": [
              "'nyt://article/d73b0a15-ae3f-5198-b85a-57c5aff88fa5'"
            ],
            "application/vnd.google.colaboratory.intrinsic+json": {
              "type": "string"
            }
          },
          "metadata": {},
          "execution_count": 78
        }
      ]
    },
    {
      "cell_type": "code",
      "source": [
        "res.json()[\"response\"][\"docs\"][0][\"keywords\"]"
      ],
      "metadata": {
        "colab": {
          "base_uri": "https://localhost:8080/"
        },
        "id": "05ky7yzNs31V",
        "outputId": "0c9cf947-7caa-48ca-d705-7ee886300bb2"
      },
      "execution_count": null,
      "outputs": [
        {
          "output_type": "execute_result",
          "data": {
            "text/plain": [
              "[{'name': 'glocations', 'value': 'Nigeria', 'rank': 1, 'major': 'N'},\n",
              " {'name': 'persons', 'value': 'Obi, Peter (1961- )', 'rank': 2, 'major': 'N'},\n",
              " {'name': 'persons', 'value': 'Tinubu, Bola Ahmed', 'rank': 3, 'major': 'N'},\n",
              " {'name': 'persons', 'value': 'Abubakar, Atiku', 'rank': 4, 'major': 'N'},\n",
              " {'name': 'organizations', 'value': 'Forward Party', 'rank': 5, 'major': 'N'},\n",
              " {'name': 'subject', 'value': 'Elections', 'rank': 6, 'major': 'N'}]"
            ]
          },
          "metadata": {},
          "execution_count": 82
        }
      ]
    },
    {
      "cell_type": "code",
      "source": [
        "res2 = session.get(str(\"https://api.nytimes.com/svc/search/v2/articlesearch.json?api-key=\"+api_key),\n",
        "            timeout=10000,\n",
        "        )"
      ],
      "metadata": {
        "id": "6_UHJk20uYUv"
      },
      "execution_count": null,
      "outputs": []
    },
    {
      "cell_type": "code",
      "source": [
        "len(res2.json()[\"response\"][\"docs\"]) #The Article Search API returns a max of 10 results at a time"
      ],
      "metadata": {
        "colab": {
          "base_uri": "https://localhost:8080/"
        },
        "id": "KLIprdPnueFX",
        "outputId": "969a07b3-2c72-4495-810f-a015f1996485"
      },
      "execution_count": null,
      "outputs": [
        {
          "output_type": "execute_result",
          "data": {
            "text/plain": [
              "10"
            ]
          },
          "metadata": {},
          "execution_count": 91
        }
      ]
    },
    {
      "cell_type": "code",
      "source": [
        "for i in res2.json()[\"response\"][\"docs\"]:\n",
        "  print(i[\"web_url\"])"
      ],
      "metadata": {
        "colab": {
          "base_uri": "https://localhost:8080/"
        },
        "id": "zFF0IJRvu8oB",
        "outputId": "5d0599bc-b34b-447d-bb9d-4ca512e49199"
      },
      "execution_count": null,
      "outputs": [
        {
          "output_type": "stream",
          "name": "stdout",
          "text": [
            "https://www.nytimes.com/2023/04/05/technology/personaltech/how-to-brainstorm-and-plan-events-with-friends-and-family.html\n",
            "https://www.nytimes.com/2023/04/05/books/stinging-fly-irish-literature.html\n",
            "https://www.nytimes.com/2023/04/05/business/tech-internship-application-grind.html\n",
            "https://www.nytimes.com/2023/04/05/us/chicago-voters-mayor-election.html\n",
            "https://www.nytimes.com/2023/04/05/world/europe/poland-election-pope-john-paul-ii.html\n",
            "https://www.nytimes.com/2023/04/05/theater/thanksgiving-play-larissa-fasthorse-broadway.html\n",
            "https://www.nytimes.com/2023/04/05/business/camaro-gm-electric-vehicles.html\n",
            "https://www.nytimes.com/2023/04/05/style/hokas-fashion.html\n",
            "https://www.nytimes.com/2023/04/05/magazine/la-school-pandemic.html\n",
            "https://www.nytimes.com/2023/04/05/sports/golf/masters-course-augusta-national.html\n"
          ]
        }
      ]
    },
    {
      "cell_type": "markdown",
      "source": [
        "## Books"
      ],
      "metadata": {
        "id": "q-QImPXxUmmD"
      }
    },
    {
      "cell_type": "code",
      "source": [
        "books = session.get(str(\"https://api.nytimes.com/svc/books/v3/reviews.json?title=The+Passenger&api-key=\"+api_key),\n",
        "            timeout=10000,\n",
        "        )"
      ],
      "metadata": {
        "id": "Uv-7vR5JTg5F"
      },
      "execution_count": null,
      "outputs": []
    },
    {
      "cell_type": "code",
      "source": [
        "books.json()"
      ],
      "metadata": {
        "colab": {
          "base_uri": "https://localhost:8080/"
        },
        "id": "L2YrljZ2Tq9x",
        "outputId": "dc04543d-2e56-44af-a34a-22efab49cd79"
      },
      "execution_count": null,
      "outputs": [
        {
          "output_type": "execute_result",
          "data": {
            "text/plain": [
              "{'status': 'OK',\n",
              " 'copyright': 'Copyright (c) 2023 The New York Times Company.  All Rights Reserved.',\n",
              " 'num_results': 1,\n",
              " 'results': [{'url': 'https://www.nytimes.com/2022/10/19/books/review/cormac-mccarthy-passenger.html',\n",
              "   'publication_dt': '2022-10-19',\n",
              "   'byline': 'By John Jeremiah Sullivan',\n",
              "   'book_title': 'The Passenger',\n",
              "   'book_author': '',\n",
              "   'summary': 'In “The Passenger,” a pair of siblings contend with the world’s enigmas and their own demons.',\n",
              "   'uuid': '00000000-0000-0000-0000-000000000000',\n",
              "   'uri': 'nyt://book/00000000-0000-0000-0000-000000000000',\n",
              "   'isbn13': ['9780307268990']}]}"
            ]
          },
          "metadata": {},
          "execution_count": 16
        }
      ]
    },
    {
      "cell_type": "markdown",
      "source": [
        "# Conclusion \n",
        "\n",
        "## Etat de l'API\n",
        "\n",
        "On a une structure de l'API de la forme\n",
        "\"https://api.nytimes.com/svc/\" suivi après de la catégorie de l'API (Books, article etc). On obtient ensuite un fichier json selon le filtre que l'on ajoute\n",
        "\n",
        "On circule ensuite dans le fichier json selon des clés-valeurs mais aussi par des listes. Le webscrapping peut également se faire à l'aide de l'url dispo dans les clés.\n",
        "\n",
        "RQ: le package NYTAPI permet de requeter facilement l'API pour des commandes de bases\n",
        "\n",
        "## Perspectives et limites\n",
        "\n",
        "La recherche simple et la récupération d'informations semblent assez simples.\n",
        "Cependant, si on souhaite demander davantage d'informations on peut être limité avec le requetage simple, il y a une limite de 10 articles par requête (à vérifier). Il faudrait peut être créer une première BDD en hard dans l'app si, par exemple, on veut faire un moteur de recherche des keywords.\n",
        "=> Automatiser le requetage\n",
        "\n",
        "Je n'ai pas assez travailler sur les dates des articles, comment les récupérer et remonter dans le temps sur les articles à part avec les metadonnées\n",
        "\n",
        "Objectifs/TODO: définir nos objectifs, que faire avec l'API, ce qui définira la structure du requetage\n"
      ],
      "metadata": {
        "id": "pK8C0vAFeyYK"
      }
    }
  ]
}